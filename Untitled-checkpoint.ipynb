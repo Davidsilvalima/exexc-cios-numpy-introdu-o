{
 "cells": [
  {
   "cell_type": "markdown",
   "id": "00668c1d",
   "metadata": {},
   "source": [
    "Exercício 1\n",
    "    Inspecionando um Array NumPy\n",
    "\n",
    "Um objeto numpy possui atributos e métodos, herdados da classe (numpy.ndarray). Crie um array  e inspecione os seguintes atributos:\n",
    "\n",
    "shape: uma tupla que contém o número de elementos (tamanho) em cada dimensão do array;\n",
    "\n",
    "size: número total de elementos do array;\n",
    "\n",
    "ndim: número de dimensões (eixos);\n",
    "\n",
    "nbytes: número de bytes utilizado no armazenamento dos dados;\n",
    "\n",
    "dtype: data type dos elementos do array.\n",
    "\n",
    "\n",
    "\n",
    "Exemplo de implementação:\n",
    "\n",
    "\n",
    "\n",
    "import numpy as np\n",
    "array = np.array([1, 2, 3, 4])\n",
    "print('Shape: ', array.shape)"
   ]
  },
  {
   "cell_type": "code",
   "execution_count": 2,
   "id": "c6e50cd7",
   "metadata": {},
   "outputs": [
    {
     "name": "stdout",
     "output_type": "stream",
     "text": [
      "Shape:  (4,)\n"
     ]
    }
   ],
   "source": [
    "import numpy as np\n",
    "array = np.array([1, 2, 3, 4])\n",
    "print('Shape: ', array.shape)"
   ]
  },
  {
   "cell_type": "code",
   "execution_count": 4,
   "id": "d97db467",
   "metadata": {},
   "outputs": [
    {
     "name": "stdout",
     "output_type": "stream",
     "text": [
      "Size:  4\n"
     ]
    }
   ],
   "source": [
    "print('Size: ', array.size)\n"
   ]
  },
  {
   "cell_type": "code",
   "execution_count": 5,
   "id": "d659ac90",
   "metadata": {},
   "outputs": [
    {
     "name": "stdout",
     "output_type": "stream",
     "text": [
      "Ndim:  1\n"
     ]
    }
   ],
   "source": [
    "print('Ndim: ', array.ndim)"
   ]
  },
  {
   "cell_type": "code",
   "execution_count": 6,
   "id": "63319b82",
   "metadata": {},
   "outputs": [
    {
     "name": "stdout",
     "output_type": "stream",
     "text": [
      "Nbytes:  16\n"
     ]
    }
   ],
   "source": [
    "print('Nbytes: ', array.nbytes)"
   ]
  },
  {
   "cell_type": "code",
   "execution_count": 7,
   "id": "9baeafc9",
   "metadata": {
    "scrolled": true
   },
   "outputs": [
    {
     "name": "stdout",
     "output_type": "stream",
     "text": [
      "dtype:  int32\n"
     ]
    }
   ],
   "source": [
    "print(\"dtype: \", array.dtype)"
   ]
  },
  {
   "cell_type": "markdown",
   "id": "ed34c950",
   "metadata": {},
   "source": [
    "Exercicio 2    \n",
    "    Com base no exercício anterior crie uma função que receba um array e mostre na tela seus atributos. Verifique se o argumento inserido é de fato um objeto numpy. Use também a função built-in type() para verificar a classe do objeto.\n",
    "\n",
    "\n",
    "\n",
    "Retorno esperado:\n",
    "inspecionar_array(np.array([1,2,3]))\n",
    " \n",
    "Shape : (3,)\n",
    "Size:  3\n",
    "Ndim:  1\n",
    "Nbytes:  24\n",
    "Dtype:  int64\n",
    "Type:  <class 'numpy.ndarray'>\n",
    "array([1, 2, 3, 4])\n",
    "\n",
    "\n",
    "inspecionar_array([1,2,3])\n",
    " \n",
    "'O objeto inserido não é um array NumPy.'"
   ]
  },
  {
   "cell_type": "code",
   "execution_count": 8,
   "id": "94e25762",
   "metadata": {},
   "outputs": [
    {
     "name": "stdout",
     "output_type": "stream",
     "text": [
      "Shape:  (4,)\n",
      "Size:  4\n",
      "Ndim:  1\n",
      "Nbytes:  16\n",
      "Dtype:  int32\n",
      "Type:  <class 'numpy.ndarray'>\n"
     ]
    },
    {
     "data": {
      "text/plain": [
       "'O objeto inserido não é um array Numpy.'"
      ]
     },
     "execution_count": 8,
     "metadata": {},
     "output_type": "execute_result"
    }
   ],
   "source": [
    "def inspecionar_array(array):\n",
    "    if isinstance(array, np.ndarray):\n",
    "        print('Shape: ', array.shape)\n",
    "        print('Size: ', array.size)\n",
    "        print('Ndim: ', array.ndim)\n",
    "        print('Nbytes: ', array.nbytes)\n",
    "        print('Dtype: ', array.dtype)\n",
    "        print('Type: ', type(array))\n",
    "        return array\n",
    "    else:\n",
    "        return 'O objeto inserido não é um array Numpy.'\n",
    "\n",
    "array = np.array([1, 2, 3, 4])\n",
    "list_ = [1, 2, 3, 4]\n",
    "inspecionar_array (array)\n",
    "inspecionar_array(list_)"
   ]
  },
  {
   "cell_type": "markdown",
   "id": "05ec37a2",
   "metadata": {},
   "source": [
    "Exercício 3\n",
    "Use a função np.array() para criar os arrays unidimensionais listados abaixo:\n",
    "\n",
    "a) Use uma lista como argumento e obtenha:\n",
    "array([-1,  4,  7,  9])\n",
    "\n",
    "\n",
    "b) Use a função range() e obtenha:    \n",
    "array([ 1,  2,  3,  4,  5,  6,  7,  8,  9, 10])\n",
    "\n",
    "\n",
    "c)Use uma tupla como argumento e obtenha:    \n",
    "array([10, 11, 12, 13, 14])\n",
    "\n",
    "\n",
    "d) Use a função range() e obtenha:    \n",
    "array([1990, 1995, 2000, 2005, 2010, 2015, 2020])\n",
    "\n",
    "\n",
    "e) Use a função range() e obtenha:\n",
    "array([2020, 2010, 2000, 1990, 1980, 1970, 1960, 1950, 1940, 1930, 1920,\n",
    "       1910, 1900])\n",
    "\n",
    "\n",
    "f) Obtenha:\n",
    "array(100)"
   ]
  },
  {
   "cell_type": "code",
   "execution_count": 9,
   "id": "ce837ea4",
   "metadata": {},
   "outputs": [
    {
     "name": "stdout",
     "output_type": "stream",
     "text": [
      "[-1  4  7  9]\n"
     ]
    }
   ],
   "source": [
    "#a \n",
    "array1 = np.array([-1, 4, 7, 9])\n",
    "print(array1)"
   ]
  },
  {
   "cell_type": "code",
   "execution_count": 10,
   "id": "68bccb61",
   "metadata": {},
   "outputs": [
    {
     "name": "stdout",
     "output_type": "stream",
     "text": [
      "[ 1  2  3  4  5  6  7  8  9 10]\n"
     ]
    }
   ],
   "source": [
    "#b\n",
    "array2 = np.array(range(1, 11))\n",
    "print(array2)"
   ]
  },
  {
   "cell_type": "code",
   "execution_count": 11,
   "id": "c7594d74",
   "metadata": {},
   "outputs": [
    {
     "name": "stdout",
     "output_type": "stream",
     "text": [
      "[10 11 12 13 14]\n"
     ]
    }
   ],
   "source": [
    "#c\n",
    "tupla = (10, 11, 12, 13, 14)\n",
    "array3 = np.array(tupla)\n",
    "print(array3)"
   ]
  },
  {
   "cell_type": "code",
   "execution_count": 12,
   "id": "478077c4",
   "metadata": {},
   "outputs": [
    {
     "name": "stdout",
     "output_type": "stream",
     "text": [
      "[1990 1995 2000 2005 2010 2015 2020]\n"
     ]
    }
   ],
   "source": [
    "#d\n",
    "array4 = np.array(range(1990, 2021, 5))\n",
    "print(array4)"
   ]
  },
  {
   "cell_type": "code",
   "execution_count": 13,
   "id": "2c2a8723",
   "metadata": {},
   "outputs": [
    {
     "name": "stdout",
     "output_type": "stream",
     "text": [
      "[2020 2010 2000 1990 1980 1970 1960 1950 1940 1930 1920 1910 1900]\n"
     ]
    }
   ],
   "source": [
    "#e\n",
    "array5 = np.array(range(2020, 1890, -10))\n",
    "print(array5)"
   ]
  },
  {
   "cell_type": "code",
   "execution_count": 14,
   "id": "6dc94f92",
   "metadata": {},
   "outputs": [
    {
     "name": "stdout",
     "output_type": "stream",
     "text": [
      "Array:  100\n"
     ]
    }
   ],
   "source": [
    "#f \n",
    "array6 = np.array(100)\n",
    "print('Array: ', array6)"
   ]
  },
  {
   "cell_type": "markdown",
   "id": "8c58f9ae",
   "metadata": {},
   "source": [
    "Exercício 4\n",
    "    A função np.ones() permite criar um array preenchido com o número 1 em todas as suas entradas. Podemos especificar como argumentos o shape e o tipo de dado dtype do array. Use esta função para criar os arrays a seguir:\n",
    "\n",
    "a)\n",
    "array([1., 1., 1., 1., 1., 1., 1., 1., 1., 1.])\n",
    "\n",
    "\n",
    "b)\n",
    "array([[1., 1., 1., 1.],\n",
    "       [1., 1., 1., 1.],\n",
    "       [1., 1., 1., 1.],\n",
    "       [1., 1., 1., 1.]])\n",
    "       \n",
    "\n",
    "c)\n",
    "array([[1, 1],\n",
    "       [1, 1],\n",
    "       [1, 1]])"
   ]
  },
  {
   "cell_type": "code",
   "execution_count": 15,
   "id": "87bbfba1",
   "metadata": {},
   "outputs": [
    {
     "data": {
      "text/plain": [
       "<function print>"
      ]
     },
     "execution_count": 15,
     "metadata": {},
     "output_type": "execute_result"
    }
   ],
   "source": [
    "#a\n",
    "A = np.ones(10)\n",
    "print"
   ]
  },
  {
   "cell_type": "code",
   "execution_count": 16,
   "id": "7a3504d3",
   "metadata": {},
   "outputs": [
    {
     "data": {
      "text/plain": [
       "<function print>"
      ]
     },
     "execution_count": 16,
     "metadata": {},
     "output_type": "execute_result"
    }
   ],
   "source": [
    "#b\n",
    "B = np.ones((4,4))\n",
    "print"
   ]
  },
  {
   "cell_type": "code",
   "execution_count": 17,
   "id": "01927232",
   "metadata": {},
   "outputs": [
    {
     "data": {
      "text/plain": [
       "<function print>"
      ]
     },
     "execution_count": 17,
     "metadata": {},
     "output_type": "execute_result"
    }
   ],
   "source": [
    "#c\n",
    "C = np.ones((3,2), dtype= float)\n",
    "print\n"
   ]
  },
  {
   "cell_type": "markdown",
   "id": "4ee7ba77",
   "metadata": {},
   "source": [
    "Exercício 5\n",
    "    A função np.zeros() permite criar um array preenchido com o número 0 em todas as suas entradas. Podemos especificar como argumentos o shape e o tipo de dado dtype do array (default é o float). Use esta função para criar os arrays a seguir:\n",
    "\n",
    "a)array([0., 0., 0., 0., 0., 0., 0., 0., 0., 0.])\n",
    "\n",
    "b) array([[0., 0.],\n",
    "       [0., 0.]])  \n",
    "       \n",
    "c) array([[0., 0., 0., 0., 0., 0.],\n",
    "       [0., 0., 0., 0., 0., 0.],\n",
    "       [0., 0., 0., 0., 0., 0.],\n",
    "       [0., 0., 0., 0., 0., 0.]])"
   ]
  },
  {
   "cell_type": "code",
   "execution_count": 18,
   "id": "7d334e45",
   "metadata": {},
   "outputs": [
    {
     "data": {
      "text/plain": [
       "<function print>"
      ]
     },
     "execution_count": 18,
     "metadata": {},
     "output_type": "execute_result"
    }
   ],
   "source": [
    "#a.\n",
    "A = np.zeros(10)\n",
    "print"
   ]
  },
  {
   "cell_type": "code",
   "execution_count": 19,
   "id": "dd33d1e7",
   "metadata": {},
   "outputs": [
    {
     "name": "stdout",
     "output_type": "stream",
     "text": [
      "[[0. 0.]\n",
      " [0. 0.]]\n"
     ]
    }
   ],
   "source": [
    "#b.\n",
    "B = np.zeros(shape = (2,2))\n",
    "print(B)"
   ]
  },
  {
   "cell_type": "code",
   "execution_count": 20,
   "id": "19b9ec71",
   "metadata": {},
   "outputs": [
    {
     "name": "stdout",
     "output_type": "stream",
     "text": [
      "[[0. 0. 0. 0. 0. 0.]\n",
      " [0. 0. 0. 0. 0. 0.]\n",
      " [0. 0. 0. 0. 0. 0.]\n",
      " [0. 0. 0. 0. 0. 0.]]\n"
     ]
    }
   ],
   "source": [
    "#c.\n",
    "C = np.zeros(shape =(4, 6))\n",
    "print(C)"
   ]
  },
  {
   "cell_type": "markdown",
   "id": "eed3eb5d",
   "metadata": {},
   "source": [
    "Exercício 6\n",
    "    Crie os arrays a seguir:\n",
    "\n",
    "a) array([[10],\n",
    "       [15],\n",
    "       [20],\n",
    "       [25],\n",
    "       [30],\n",
    "       [35],\n",
    "       [40],\n",
    "       [45]])\n",
    "\n",
    "b) array([-50, -45, -40, -35, -30, -25, -20, -15, -10,  -5])\n",
    "\n",
    "c) array([[ 50,  52,  54,  56,  58,  60,  62,  64,  66,  68],\n",
    "       [ 70,  72,  74,  76,  78,  80,  82,  84,  86,  88],\n",
    "       [ 90,  92,  94,  96,  98, 100, 102, 104, 106, 108],\n",
    "       [110, 112, 114, 116, 118, 120, 122, 124, 126, 128],\n",
    "       [130, 132, 134, 136, 138, 140, 142, 144, 146, 148]])\n",
    "       \n",
    "Dica: use np.arange() ou np.array(range())."
   ]
  },
  {
   "cell_type": "code",
   "execution_count": 21,
   "id": "7c8d1118",
   "metadata": {},
   "outputs": [
    {
     "data": {
      "text/plain": [
       "<function print>"
      ]
     },
     "execution_count": 21,
     "metadata": {},
     "output_type": "execute_result"
    }
   ],
   "source": [
    "#a.\n",
    "A = np.arange(0,51,2).reshape(-1,1)\n",
    "print\n",
    "\n",
    "a = np.array(range(10, 50, 5)).reshape(-1, 1)\n",
    "print\n"
   ]
  },
  {
   "cell_type": "code",
   "execution_count": 22,
   "id": "bc1d8c41",
   "metadata": {},
   "outputs": [
    {
     "data": {
      "text/plain": [
       "<function print>"
      ]
     },
     "execution_count": 22,
     "metadata": {},
     "output_type": "execute_result"
    }
   ],
   "source": [
    "#b.\n",
    "B = np.arange(-50, 1, 5)\n",
    "print\n",
    "b = np.array(range(-50, 1, 3))\n",
    "print"
   ]
  },
  {
   "cell_type": "code",
   "execution_count": 23,
   "id": "fc841a94",
   "metadata": {},
   "outputs": [
    {
     "name": "stdout",
     "output_type": "stream",
     "text": [
      "[[ 50  52  54  56  58  60  62  64  66  68]\n",
      " [ 70  72  74  76  78  80  82  84  86  88]\n",
      " [ 90  92  94  96  98 100 102 104 106 108]\n",
      " [110 112 114 116 118 120 122 124 126 128]\n",
      " [130 132 134 136 138 140 142 144 146 148]]\n",
      "[[ 50  52  54  56  58  60  62  64  66  68]\n",
      " [ 70  72  74  76  78  80  82  84  86  88]\n",
      " [ 90  92  94  96  98 100 102 104 106 108]\n",
      " [110 112 114 116 118 120 122 124 126 128]\n",
      " [130 132 134 136 138 140 142 144 146 148]]\n"
     ]
    }
   ],
   "source": [
    "#c\n",
    "C = np.arange(50,150,2).reshape((5,10))\n",
    "print(C)\n",
    "\n",
    "c = np.array(range(50,150,2)).reshape((5,10))\n",
    "print(c)"
   ]
  },
  {
   "cell_type": "markdown",
   "id": "2f4360fa",
   "metadata": {},
   "source": [
    "Exercício 7\n",
    "    Utilize a função np.full(shape, fill_value, dtype) para criar os arrays a seguir. Esta função permite criar um array com um shape e dtype definidos pelo usuário, preenchido com um determinado valor.\n",
    "\n",
    "a) array([5., 5., 5., 5., 5., 5., 5., 5., 5., 5.])\n",
    "\n",
    "b) array([[-5., -5., -5., -5.],\n",
    "       [-5., -5., -5., -5.],\n",
    "       [-5., -5., -5., -5.],\n",
    "       [-5., -5., -5., -5.]])\n",
    "\n",
    "c) array([[3, 3, 3],\n",
    "       [3, 3, 3],\n",
    "       [3, 3, 3]])\n",
    "       \n",
    "d) array([[50, 50, 50, 50, 50, 50, 50, 50, 50, 50],\n",
    "       [50, 50, 50, 50, 50, 50, 50, 50, 50, 50],\n",
    "       [50, 50, 50, 50, 50, 50, 50, 50, 50, 50],\n",
    "       [50, 50, 50, 50, 50, 50, 50, 50, 50, 50],\n",
    "       [50, 50, 50, 50, 50, 50, 50, 50, 50, 50],\n",
    "       [50, 50, 50, 50, 50, 50, 50, 50, 50, 50],\n",
    "       [50, 50, 50, 50, 50, 50, 50, 50, 50, 50],\n",
    "       [50, 50, 50, 50, 50, 50, 50, 50, 50, 50],\n",
    "       [50, 50, 50, 50, 50, 50, 50, 50, 50, 50],\n",
    "       [50, 50, 50, 50, 50, 50, 50, 50, 50, 50]])\n",
    "\n",
    "Dica: outra possibilidade seria obter os arrays com uma operação diferente, a partir da multiplicação de uma matriz preenchida com número 1 por um determinado valor."
   ]
  },
  {
   "cell_type": "code",
   "execution_count": 24,
   "id": "33cc4f09",
   "metadata": {},
   "outputs": [
    {
     "name": "stdout",
     "output_type": "stream",
     "text": [
      "[5. 5. 5. 5. 5. 5. 5. 5. 5. 5.]\n",
      "[5. 5. 5. 5. 5. 5. 5. 5. 5. 5.]\n"
     ]
    }
   ],
   "source": [
    "#a \n",
    "A = np.full(shape=(10), fill_value = 5, dtype = float)\n",
    "print(A)\n",
    "a = 5*np.ones(10)\n",
    "print(a)"
   ]
  },
  {
   "cell_type": "code",
   "execution_count": 25,
   "id": "0ab5f0a2",
   "metadata": {},
   "outputs": [
    {
     "name": "stdout",
     "output_type": "stream",
     "text": [
      "[[-5. -5. -5. -5.]\n",
      " [-5. -5. -5. -5.]\n",
      " [-5. -5. -5. -5.]\n",
      " [-5. -5. -5. -5.]]\n",
      "[[-5. -5. -5. -5.]\n",
      " [-5. -5. -5. -5.]\n",
      " [-5. -5. -5. -5.]\n",
      " [-5. -5. -5. -5.]]\n"
     ]
    }
   ],
   "source": [
    "#b\n",
    "B = np.full(shape = (4, 4), fill_value = -5, dtype = float)\n",
    "print(B)\n",
    "b = (-5)*np.ones(shape=(4,4))\n",
    "print(b)"
   ]
  },
  {
   "cell_type": "code",
   "execution_count": 26,
   "id": "58cfd56e",
   "metadata": {},
   "outputs": [
    {
     "name": "stdout",
     "output_type": "stream",
     "text": [
      "[[3 3 3]\n",
      " [3 3 3]\n",
      " [3 3 3]]\n",
      "[[55 55 55]\n",
      " [55 55 55]\n",
      " [55 55 55]]\n"
     ]
    }
   ],
   "source": [
    "#c\n",
    "C = np.full(shape=(3,3), fill_value=3, dtype=int)\n",
    "print(C)\n",
    "c = (55)*np.ones(shape=(3,3), dtype=int)\n",
    "print(c)"
   ]
  },
  {
   "cell_type": "code",
   "execution_count": 27,
   "id": "be4b371a",
   "metadata": {
    "scrolled": true
   },
   "outputs": [
    {
     "name": "stdout",
     "output_type": "stream",
     "text": [
      "[[50 50 50 50 50 50 50 50 50 50]\n",
      " [50 50 50 50 50 50 50 50 50 50]\n",
      " [50 50 50 50 50 50 50 50 50 50]\n",
      " [50 50 50 50 50 50 50 50 50 50]\n",
      " [50 50 50 50 50 50 50 50 50 50]\n",
      " [50 50 50 50 50 50 50 50 50 50]\n",
      " [50 50 50 50 50 50 50 50 50 50]\n",
      " [50 50 50 50 50 50 50 50 50 50]\n",
      " [50 50 50 50 50 50 50 50 50 50]\n",
      " [50 50 50 50 50 50 50 50 50 50]]\n",
      "[[88 88 88 88 88 88 88 88 88 88]\n",
      " [88 88 88 88 88 88 88 88 88 88]\n",
      " [88 88 88 88 88 88 88 88 88 88]\n",
      " [88 88 88 88 88 88 88 88 88 88]\n",
      " [88 88 88 88 88 88 88 88 88 88]\n",
      " [88 88 88 88 88 88 88 88 88 88]\n",
      " [88 88 88 88 88 88 88 88 88 88]\n",
      " [88 88 88 88 88 88 88 88 88 88]\n",
      " [88 88 88 88 88 88 88 88 88 88]\n",
      " [88 88 88 88 88 88 88 88 88 88]]\n"
     ]
    }
   ],
   "source": [
    "#d\n",
    "D = np.full(shape=(10,10), fill_value= 50, dtype=int)\n",
    "print(D)\n",
    "d = (88)*np.ones(shape = (10,10), dtype = int)\n",
    "print(d)"
   ]
  },
  {
   "cell_type": "markdown",
   "id": "28e39dda",
   "metadata": {},
   "source": [
    "Exercício 8\n",
    "    Defina o array K e verifique se há dados ausentes (missing data). Use a função np.isnan().\n",
    "\n",
    "\n",
    "\n",
    "array([[ nan,   1.,  10.,   0.],\n",
    "       [ nan,  nan,  nan,  nan],\n",
    "       [100.,  50.,  nan, -25.],\n",
    "       [ 30.,  nan,  nan, 130.]])"
   ]
  },
  {
   "cell_type": "code",
   "execution_count": 34,
   "id": "95a481f6",
   "metadata": {},
   "outputs": [
    {
     "name": "stdout",
     "output_type": "stream",
     "text": [
      "[[ True False False False]\n",
      " [ True  True  True  True]\n",
      " [False False  True False]\n",
      " [False  True  True False]]\n",
      " Há 8 dados ausentes em K.\n"
     ]
    }
   ],
   "source": [
    "K = np.array ([\n",
    "    [np.nan, 1, 10, 0],\n",
    "    [np.nan, np.nan, np.nan, np.nan],\n",
    "    [100, 50, np.nan, -25],\n",
    "    [30, np.nan, np.nan, 130]])\n",
    "\n",
    "print(np.isnan(K))\n",
    "print(f' Há {np.isnan(K).sum()} dados ausentes em K.')"
   ]
  },
  {
   "cell_type": "markdown",
   "id": "0b02b52d",
   "metadata": {},
   "source": [
    "Exercício 9\n",
    "    A função np.linspace() retorna um array com números contendo espaçamento uniforme em um intervalo definido. Crie um array com números dentro do intervalo [1,21] em 5 partes.\n",
    "\n",
    "Retorno esperado:\n",
    "\n",
    "\n",
    "\n",
    "array([ 1.,  6., 11., 16., 21.])"
   ]
  },
  {
   "cell_type": "code",
   "execution_count": 37,
   "id": "bdb8cc5b",
   "metadata": {},
   "outputs": [
    {
     "name": "stdout",
     "output_type": "stream",
     "text": [
      "[ 1.  6. 11. 16. 21.]\n"
     ]
    }
   ],
   "source": [
    "A = np.linspace(1, 21, 5)\n",
    "print(A)"
   ]
  },
  {
   "cell_type": "markdown",
   "id": "eb3bc437",
   "metadata": {},
   "source": [
    "Exercício 10\n",
    "    A função np.logspace() retorna números com espaçamento uniforme em uma escala logarítmica. Crie um array com números dentro do intervalo [1, 51] em 10 partes com a função np.logspace().\n",
    "\n",
    "Retorno esperado:\n",
    "\n",
    "array([[1.00000000e+01],\n",
    "       [3.59381366e+06],\n",
    "       [1.29154967e+12],\n",
    "       [4.64158883e+17],\n",
    "       [1.66810054e+23],\n",
    "       [5.99484250e+28],\n",
    "       [2.15443469e+34],\n",
    "       [7.74263683e+39],\n",
    "       [2.78255940e+45],\n",
    "       [1.00000000e+51]])"
   ]
  },
  {
   "cell_type": "code",
   "execution_count": 40,
   "id": "d2d237ee",
   "metadata": {},
   "outputs": [
    {
     "name": "stdout",
     "output_type": "stream",
     "text": [
      "[[1.00000000e+01]\n",
      " [3.59381366e+06]\n",
      " [1.29154967e+12]\n",
      " [4.64158883e+17]\n",
      " [1.66810054e+23]\n",
      " [5.99484250e+28]\n",
      " [2.15443469e+34]\n",
      " [7.74263683e+39]\n",
      " [2.78255940e+45]\n",
      " [1.00000000e+51]]\n"
     ]
    }
   ],
   "source": [
    "A = np.logspace(1, 51, 10).reshape(-1, 1)\n",
    "print(A)"
   ]
  },
  {
   "cell_type": "markdown",
   "id": "ac9985b1",
   "metadata": {},
   "source": [
    "Exercício 11\n",
    "    Use a função np.diag() para construir o array a seguir:\n",
    "\n",
    "array([[ 5,  0,  0,  0,  0,  0],\n",
    "       [ 0, 10,  0,  0,  0,  0],\n",
    "       [ 0,  0, 15,  0,  0,  0],\n",
    "       [ 0,  0,  0, 20,  0,  0],\n",
    "       [ 0,  0,  0,  0, 25,  0],\n",
    "       [ 0,  0,  0,  0,  0, 30]])"
   ]
  },
  {
   "cell_type": "code",
   "execution_count": 41,
   "id": "92785d44",
   "metadata": {},
   "outputs": [
    {
     "name": "stdout",
     "output_type": "stream",
     "text": [
      "[[ 5  0  0  0  0  0]\n",
      " [ 0 10  0  0  0  0]\n",
      " [ 0  0 15  0  0  0]\n",
      " [ 0  0  0 20  0  0]\n",
      " [ 0  0  0  0 25  0]\n",
      " [ 0  0  0  0  0 30]]\n"
     ]
    }
   ],
   "source": [
    "A = np.diag(range(5, 31, 5))\n",
    "print(A)"
   ]
  },
  {
   "cell_type": "raw",
   "id": "49ee10ad",
   "metadata": {},
   "source": [
    "Exercício 12\n",
    "    Use a função np.eye() (ou ainda np.identity()) para obter o array seguir.\n",
    "\n",
    "array([[1., 0., 0., 0., 0., 0., 0., 0., 0., 0.],\n",
    "       [0., 1., 0., 0., 0., 0., 0., 0., 0., 0.],\n",
    "       [0., 0., 1., 0., 0., 0., 0., 0., 0., 0.],\n",
    "       [0., 0., 0., 1., 0., 0., 0., 0., 0., 0.],\n",
    "       [0., 0., 0., 0., 1., 0., 0., 0., 0., 0.],\n",
    "       [0., 0., 0., 0., 0., 1., 0., 0., 0., 0.],\n",
    "       [0., 0., 0., 0., 0., 0., 1., 0., 0., 0.],\n",
    "       [0., 0., 0., 0., 0., 0., 0., 1., 0., 0.],\n",
    "       [0., 0., 0., 0., 0., 0., 0., 0., 1., 0.],\n",
    "       [0., 0., 0., 0., 0., 0., 0., 0., 0., 1.]])\n",
    "\n",
    "Dica: essa matriz é definida como matriz identidade, neste caso de ordem 10, e assume grande relevância em diversos cálculos computacionais, como veremos mais adiante."
   ]
  },
  {
   "cell_type": "code",
   "execution_count": 44,
   "id": "6767906d",
   "metadata": {},
   "outputs": [
    {
     "name": "stdout",
     "output_type": "stream",
     "text": [
      "[[1. 0. 0. 0. 0. 0. 0. 0. 0. 0.]\n",
      " [0. 1. 0. 0. 0. 0. 0. 0. 0. 0.]\n",
      " [0. 0. 1. 0. 0. 0. 0. 0. 0. 0.]\n",
      " [0. 0. 0. 1. 0. 0. 0. 0. 0. 0.]\n",
      " [0. 0. 0. 0. 1. 0. 0. 0. 0. 0.]\n",
      " [0. 0. 0. 0. 0. 1. 0. 0. 0. 0.]\n",
      " [0. 0. 0. 0. 0. 0. 1. 0. 0. 0.]\n",
      " [0. 0. 0. 0. 0. 0. 0. 1. 0. 0.]\n",
      " [0. 0. 0. 0. 0. 0. 0. 0. 1. 0.]\n",
      " [0. 0. 0. 0. 0. 0. 0. 0. 0. 1.]]\n",
      "[[1. 0. 0. 0. 0. 0. 0. 0. 0. 0.]\n",
      " [0. 1. 0. 0. 0. 0. 0. 0. 0. 0.]\n",
      " [0. 0. 1. 0. 0. 0. 0. 0. 0. 0.]\n",
      " [0. 0. 0. 1. 0. 0. 0. 0. 0. 0.]\n",
      " [0. 0. 0. 0. 1. 0. 0. 0. 0. 0.]\n",
      " [0. 0. 0. 0. 0. 1. 0. 0. 0. 0.]\n",
      " [0. 0. 0. 0. 0. 0. 1. 0. 0. 0.]\n",
      " [0. 0. 0. 0. 0. 0. 0. 1. 0. 0.]\n",
      " [0. 0. 0. 0. 0. 0. 0. 0. 1. 0.]\n",
      " [0. 0. 0. 0. 0. 0. 0. 0. 0. 1.]]\n"
     ]
    }
   ],
   "source": [
    "A = np.eye(10)\n",
    "print(A)\n",
    "B = np.identity(n= 10)\n",
    "print(B)"
   ]
  },
  {
   "cell_type": "markdown",
   "id": "015a6769",
   "metadata": {},
   "source": [
    "Exercício 14\n",
    "    Obtenha a soma dos elementos de cada array a seguir. Use a função np.sum(). Implemente uma solução com loop for, para tanto armazene os vetores em uma lista.\n",
    "\n",
    "import numpy as np\n",
    "array1 = np.arange(1,11)\n",
    "array2 = np.linspace(1,50,10)\n",
    "array3 = np.array(range(51))\n",
    "array4 = np.logspace(1,10,5)\n",
    "array5 = np.diag(range(5,31,5))\n",
    "\n",
    "Retorno esperado:\n",
    "\n",
    "Soma dos elementos do array 1:  55\n",
    "Soma dos elementos do array 2:  255.0\n",
    "Soma dos elementos do array 3:  1275\n",
    "Soma dos elementos do array 4:  10056552148.564463\n",
    "Soma dos elementos do array 5:  105"
   ]
  },
  {
   "cell_type": "code",
   "execution_count": 45,
   "id": "769d6c0a",
   "metadata": {},
   "outputs": [
    {
     "name": "stdout",
     "output_type": "stream",
     "text": [
      "Soma dos elementos do array 1:  55\n",
      "Soma dos elementos do array 2:  255.0\n",
      "Soma dos elementos do array 3:  1275\n",
      "Soma dos elementos do array 4:  10056552148.564463\n",
      "Soma dos elementos do array 5:  105\n"
     ]
    }
   ],
   "source": [
    "array1 = np.arange(1, 11)\n",
    "array2 = np.linspace(1, 50, 10)\n",
    "array3 = np.array(range(51))\n",
    "array4 = np.logspace(1, 10, 5)\n",
    "array5 = np.diag(range(5, 31, 5))\n",
    "arrays = [array1, array2, array3, array4, array5]\n",
    "for index, array in enumerate (arrays, start = 1):\n",
    "    print(f'Soma dos elementos do array {index}: ', array.sum())"
   ]
  },
  {
   "cell_type": "markdown",
   "id": "e4260605",
   "metadata": {},
   "source": [
    "Exercício 15\n",
    "    A partir da matriz definida abaixo obtenha: \n",
    "    a) soma total dos elementos; \n",
    "    b) soma das linhas ; \n",
    "    c) soma das colunas.\n",
    "\n",
    "import numpy as np\n",
    "matriz = np.array(np.random.randint(1,100,15)).reshape(5,3)"
   ]
  },
  {
   "cell_type": "code",
   "execution_count": 46,
   "id": "68d44b9c",
   "metadata": {},
   "outputs": [
    {
     "name": "stdout",
     "output_type": "stream",
     "text": [
      "Soma total dos elementos:  [ 99  59  96 235 122]\n",
      "Soma das colunas:  [155 209 247]\n"
     ]
    }
   ],
   "source": [
    "matriz = np.array(np.random.randint(1, 100, 15)).reshape(5, 3)\n",
    "print('Soma total dos elementos: ', matriz.sum(axis = 1 ))\n",
    "print('Soma das colunas: ', matriz.sum(axis = 0))"
   ]
  },
  {
   "cell_type": "markdown",
   "id": "f0de9be6",
   "metadata": {},
   "source": [
    "Exercício 16\n",
    "    Obtenha o valor máximo e o valor mínimo de cada array abaixo. Implemente uma solução com loop for.\n",
    "\n",
    "import numpy as np\n",
    "array1 = np.array([-1, 10, 3, 4, 7, 27])\n",
    "array2 = np.random.randint(-100,300,30)\n",
    "array3 = np.random.randn(10)\n",
    "array4 = np.array(range(50,10,-2))\n",
    "\n",
    "Dica: para obter o valor máximo e mínimo de um array podemos usar array.max() e array.min() ( ou ainda max(array) e min(array))."
   ]
  },
  {
   "cell_type": "code",
   "execution_count": 48,
   "id": "eb4e437b",
   "metadata": {},
   "outputs": [
    {
     "name": "stdout",
     "output_type": "stream",
     "text": [
      " Array 1\n",
      " Valor máximo:  27\n",
      " Valor mínimo:  -1\n",
      "\n",
      " Array 2\n",
      " Valor máximo:  259\n",
      " Valor mínimo:  -94\n",
      "\n",
      " Array 3\n",
      " Valor máximo:  1.9299824385764093\n",
      " Valor mínimo:  -1.4325789003812142\n",
      "\n",
      " Array 4\n",
      " Valor máximo:  50\n",
      " Valor mínimo:  12\n",
      "\n"
     ]
    }
   ],
   "source": [
    "array1 = np.array([-1, 10, 3, 4, 7, 27])\n",
    "array2 = np.random.randint(-100, 300, 30)\n",
    "array3 = np.random.randn(10)\n",
    "array4 = np.array(range(50, 10, -2))\n",
    "arrays = [array1, array2, array3, array4]\n",
    "for index, array in enumerate(arrays, start = 1):\n",
    "    print(f' Array {index}')\n",
    "    print(f' Valor máximo: ', array.max())\n",
    "    print(f' Valor mínimo: ', array.min())\n",
    "    print()"
   ]
  },
  {
   "cell_type": "markdown",
   "id": "284ee318",
   "metadata": {},
   "source": [
    "Exercício 17\n",
    "Crie uma função que receba uma matriz como entrada e calcule:\n",
    "\n",
    "    a) Valor máximo da matriz;\n",
    "\n",
    "    b) Valor máximo por coluna;\n",
    "\n",
    "    c) Valor máximo por linha;\n",
    "\n",
    "    d) Valor mínimo da matriz;\n",
    "\n",
    "    e) Valor mínimo por coluna;\n",
    "\n",
    "    f) Valor mínimo por linha.\n",
    "\n",
    "\n",
    "\n",
    "Exemplo de retorno para a matriz definida abaixo:\n",
    "\n",
    "   \n",
    "\n",
    "Input:\n",
    "\n",
    "matriz = np.random.randint(-1000,1000,50).reshape(10,5)\n",
    "info_matriz(matriz)\n",
    "Output:\n",
    "\n",
    "Valor máximo da matriz:  987\n",
    "Valor máximo por coluna:  [959 987 597 748 719]\n",
    "Valor máximo por linha:  [ 987  312  982  204  719  689  101  793 -460  959]\n",
    "Valor mínimo da matriz:  -969\n",
    "Valor mínimo por coluna:  [-878 -966 -969 -884 -881]\n",
    "Valor mínimo por linha:  [  30 -878 -335 -863  -40 -289 -660 -239 -969 -966]"
   ]
  },
  {
   "cell_type": "code",
   "execution_count": 1,
   "id": "93d7ceea",
   "metadata": {},
   "outputs": [
    {
     "name": "stdout",
     "output_type": "stream",
     "text": [
      "Valor máximo da matriz:  993\n",
      "Valor máximo por coluna:  [978 767 779 951 993]\n",
      "Valor máximo por linha:  [955 993 371 903 510 471 951 779  28 774]\n",
      "Valor mínimo da matriz:  -955\n",
      "Valor mínimo por coluna:  [-859 -751 -955 -403 -770]\n",
      "Valor mínimo por linha:  [-770 -370 -955  377 -286 -704 -859 -312 -751  -53]\n"
     ]
    }
   ],
   "source": [
    "import numpy as np\n",
    "def info_matrix(matrix):\n",
    "    \n",
    "    if isinstance(matrix,np.ndarray) and matrix.ndim == 2:\n",
    "        print(f'Valor máximo da matriz: ', matrix.max())\n",
    "        print(f'Valor máximo por coluna: ', matrix.max(axis = 0))\n",
    "        print(f'Valor máximo por linha: ', matrix.max(axis = 1))\n",
    "        print(f'Valor mínimo da matriz: ', matrix.min())\n",
    "        print(f'Valor mínimo por coluna: ', matrix.min(axis = 0))\n",
    "        print(f'Valor mínimo por linha: ', matrix.min(axis =1))\n",
    "    else:\n",
    "        return None\n",
    "    \n",
    "if __name__=='__main__':\n",
    "    matrix = np.random.randint(-1000,1000,50).reshape(10,5)\n",
    "    info_matrix(matrix)\n",
    "    \n",
    "    \n",
    "    #### fIQUE SEMPRE ATENTO Á IDENTAÇÃO!!!!!!!!!!!!!!\n",
    "    \n",
    "    "
   ]
  },
  {
   "cell_type": "markdown",
   "id": "3acb6ab3",
   "metadata": {},
   "source": [
    "Exercício 18\n",
    "    Com base no array definido abaixo obtenha sua média, mediana, variância e desvio padrão.\n",
    "\n",
    "import numpy as np\n",
    "arr = np.random.normal(40,0.5,size = (300))\n",
    "\n",
    "Dica:\n",
    "Média: np.mean();\n",
    "Mediana: np.median();\n",
    "Desvio padrão: np.std();\n",
    "Variância: np.var()."
   ]
  },
  {
   "cell_type": "code",
   "execution_count": 3,
   "id": "7cefcc28",
   "metadata": {},
   "outputs": [
    {
     "name": "stdout",
     "output_type": "stream",
     "text": [
      "Média: 39.98177252156231\n",
      "Mediana: 39.9736388467181\n",
      "Desvio padrão: 0.5109828889262564\n",
      "Variância: 0.26110351277542293\n"
     ]
    }
   ],
   "source": [
    "arr = np.random.normal(40, 0.5, size =(300))\n",
    "print(f'Média: {np.mean (arr)}')\n",
    "print(f'Mediana: {np.median(arr)}')\n",
    "print(f'Desvio padrão: {np.std(arr)}')\n",
    "print(f'Variância: {np.var(arr)}')"
   ]
  },
  {
   "cell_type": "markdown",
   "id": "1647e472",
   "metadata": {},
   "source": [
    "Exercício 19\n",
    "    Com base nos arrays definidos a seguir obtenha a matriz de covariância e a matriz de correlação.\n",
    "\n",
    "import numpy as np\n",
    "x = np.random.rand(100)\n",
    "y = np.random.uniform(size=100)\n",
    "\n",
    "Dica: use np.corrcoef() e np.cov()."
   ]
  },
  {
   "cell_type": "code",
   "execution_count": 4,
   "id": "12db485c",
   "metadata": {},
   "outputs": [
    {
     "name": "stdout",
     "output_type": "stream",
     "text": [
      "Matriz de correlação: [[1.         0.03316968]\n",
      " [0.03316968 1.        ]]\n",
      "\n",
      "Matriz de covariância: [[0.09683368 0.00303834]\n",
      " [0.00303834 0.08664924]]\n"
     ]
    }
   ],
   "source": [
    "x = np.random.rand(100)\n",
    "y = np.random.uniform(size=100)\n",
    "print(f'Matriz de correlação: {np.corrcoef(x, y)}')\n",
    "print()\n",
    "print(f'Matriz de covariância: {np.cov(x, y)}')"
   ]
  },
  {
   "cell_type": "markdown",
   "id": "346c9c95",
   "metadata": {},
   "source": [
    "Exercício 20\n",
    "    Obtenha o índice do valor máximo do array A.\n",
    "\n",
    "A = np.array([[11, 15, 33, 105],\n",
    "              [1, 140, 45, 90],\n",
    "              [67, 230, 78, 99]])\n",
    "\n",
    "Dica: use np.argmax() ou array.argmax()."
   ]
  },
  {
   "cell_type": "code",
   "execution_count": 7,
   "id": "8919e133",
   "metadata": {},
   "outputs": [
    {
     "name": "stdout",
     "output_type": "stream",
     "text": [
      "Valor máximo do array A: 230\n",
      "Índice do valor máximo do array A: 9\n"
     ]
    }
   ],
   "source": [
    "A = np.array([[11, 15, 33, 105],\n",
    "              [1, 140, 45, 90],\n",
    "              [67, 230, 78, 99]])\n",
    "print(f'Valor máximo do array A: {A.max( )}')\n",
    "print(f'Índice do valor máximo do array A: {A.argmax( )}')"
   ]
  },
  {
   "cell_type": "markdown",
   "id": "9434670b",
   "metadata": {},
   "source": [
    "Exercício 21\n",
    "    Obtenha o índice do valor mínimo do array B.\n",
    "\n",
    "B = np.array([\n",
    "    [73, 22, 20, 62,  3],\n",
    "    [68, 84, 27, 59, 93],\n",
    "    [48, 52,  4, 55, 50],\n",
    "    [42, 23, 63, 67,  4],\n",
    "    [44, 30, 41, 31, 29]])\n",
    "\n",
    "Dica: use np.argmin() ou array.argmin()."
   ]
  },
  {
   "cell_type": "code",
   "execution_count": 10,
   "id": "a4fc227a",
   "metadata": {},
   "outputs": [
    {
     "name": "stdout",
     "output_type": "stream",
     "text": [
      "Valor mínimo do array B: 3\n",
      "Índice do valor mínimo do array B: 4\n"
     ]
    }
   ],
   "source": [
    "B= np.array([\n",
    "    [73, 22, 20, 62, 3],\n",
    "    [68, 84, 27, 59, 93],\n",
    "    [48, 52, 4, 55, 50],\n",
    "    [42, 23, 63, 67, 4],\n",
    "    [44, 30, 41, 31, 29]])\n",
    "print(f'Valor mínimo do array B: {B.min()}')\n",
    "print(f'Índice do valor mínimo do array B: {B.argmin()}')"
   ]
  },
  {
   "cell_type": "markdown",
   "id": "10013d1d",
   "metadata": {},
   "source": [
    "Exercício 22\n",
    "    Escreva uma função que receba um array NumPy e mostre na tela um conjunto de  estatísticas descritivas deste objeto.\n",
    "Resultado esperado:\n",
    "\n",
    "Input\n",
    "array = np.array([-57, 101, 270, 130, 144])\n",
    "info_array(array)\n",
    "\n",
    "Output:\n",
    "Valor máximo: 270\n",
    "Valor mínimo: -57\n",
    "Média: 117.6\n",
    "Mediana: 130.0\n",
    "Variância: 10967.439999999999\n",
    "Desvio padrão: 104.72554607162475"
   ]
  },
  {
   "cell_type": "code",
   "execution_count": 11,
   "id": "8b30e791",
   "metadata": {},
   "outputs": [
    {
     "name": "stdout",
     "output_type": "stream",
     "text": [
      "Valor máximo: 270\n",
      "Valor mínimo: -57\n",
      "Média: 117.6\n",
      "Mediana: 130.0\n",
      "Variância: 10967.439999999999\n",
      "Desvio padrão: 104.72554607162475\n"
     ]
    }
   ],
   "source": [
    "def info_array(array):\n",
    "    if isinstance(array, np.ndarray):\n",
    "        print(f'Valor máximo: {np.max(array)}')\n",
    "        print(f'Valor mínimo: {np.min(array)}')\n",
    "        print(f'Média: {np.mean(array)}')\n",
    "        print(f'Mediana: {np.median(array)}')\n",
    "        print(f'Variância: {np.var(array)}')\n",
    "        print(f'Desvio padrão: {np.std(array)}')\n",
    "    else:\n",
    "        return None\n",
    "if __name__ == '__main__':\n",
    "    array = np.array([-57, 101, 270, 130, 144])\n",
    "    info_array(array)"
   ]
  },
  {
   "cell_type": "markdown",
   "id": "9aa95536",
   "metadata": {},
   "source": [
    "Exercício 23\n",
    "    Use a função np.unique() para obter um array com os elementos únicos do array abaixo. Para tanto, armazene o novo array em uma variável.\n",
    "\n",
    "A = np.array([\n",
    "    [1, 3, 3, 4, 5],\n",
    "    [4, 7, 11, 3, 5],\n",
    "    [1, 11, 4, 4, 11]])"
   ]
  },
  {
   "cell_type": "code",
   "execution_count": 20,
   "id": "f625265b",
   "metadata": {},
   "outputs": [
    {
     "name": "stdout",
     "output_type": "stream",
     "text": [
      "[[ 1  3  3  4  5]\n",
      " [ 4  7 11  3  5]\n",
      " [ 1 11  4  4 11]]\n",
      "[ 1  3  4  5  7 11]\n"
     ]
    }
   ],
   "source": [
    "A= np.array([\n",
    "    [1, 3, 3, 4, 5],\n",
    "    [4, 7, 11, 3, 5],\n",
    "    [1, 11, 4, 4, 11]])\n",
    "B= np.unique(A)\n",
    "print(A)\n",
    "print(B)"
   ]
  },
  {
   "cell_type": "markdown",
   "id": "172a259d",
   "metadata": {},
   "source": [
    "Exercício 24\n",
    "    Indexação de arrays 1-D\n",
    "Considerando os arrays abaixo:\n",
    "\n",
    "import numpy as np\n",
    "array1 = np.array([10, 20, 30, 40])\n",
    "array2 = np.array([100, 30, 5, 1, 40, 100, 20, 130, 155,170])\n",
    "   \n",
    "Obtenha:\n",
    "\n",
    "a) o primeiro, o terceiro e o último elemento de cada array;\n",
    "\n",
    "b) inverta o array;\n",
    "\n",
    "c) pegue o número 20 em ambos os arrays e armazene a soma em uma variável."
   ]
  },
  {
   "cell_type": "code",
   "execution_count": 23,
   "id": "8422faa4",
   "metadata": {},
   "outputs": [
    {
     "name": "stdout",
     "output_type": "stream",
     "text": [
      "Array: 1\n",
      "Primeiro elemento: 10\n",
      "Terceiro elemento: 30\n",
      "Último elemento: 40\n",
      "Array invertido: [40 30 20 10]\n",
      "Array: 2\n",
      "Primeiro elemento: 100\n",
      "Terceiro elemento: 5\n",
      "Último elemento: 170\n",
      "Array invertido: [170 155 130  20 100  40   1   5  30 100]\n",
      "40\n",
      "40\n"
     ]
    }
   ],
   "source": [
    "array1= np.array([10, 20, 30, 40])\n",
    "array2= np.array([100, 30, 5, 1, 40, 100, 20, 130, 155, 170])\n",
    "arrays= [array1, array2]\n",
    "#a e b\n",
    "for index, array in enumerate(arrays, start = 1):\n",
    "    print(f'Array: {index}')\n",
    "    print(f'Primeiro elemento: {array[0]}')\n",
    "    print(f'Terceiro elemento: {array[2]}')\n",
    "    print(f'Último elemento: {array[-1]}')\n",
    "    print(f'Array invertido: {array[::-1]}')\n",
    "    \n",
    "#c\n",
    "soma = array1[1]+array2[6]\n",
    "print(soma)\n",
    "soma2 = array1[-3]+array2[-4]\n",
    "print(soma2)"
   ]
  },
  {
   "cell_type": "markdown",
   "id": "b77c8359",
   "metadata": {},
   "source": [
    "Exercício 25\n",
    "    Indexação de arrays 2-D\n",
    "Acesse os números 9 e 90 do array abaixo.\n",
    "\n",
    "import numpy as np\n",
    "ar = np.array([[-1, 33, 44, 9, 1],[11, 1, 0, 90, 44]])"
   ]
  },
  {
   "cell_type": "code",
   "execution_count": 24,
   "id": "2e01e5cd",
   "metadata": {},
   "outputs": [
    {
     "name": "stdout",
     "output_type": "stream",
     "text": [
      "9\n",
      "9\n",
      "90\n",
      "90\n"
     ]
    }
   ],
   "source": [
    "ar = np.array([[-1, 33, 44, 9, 1], [11, 1, 0, 90, 44]])\n",
    "print(ar[0][3])\n",
    "print(ar[0, 3])\n",
    "print(ar[1][3])\n",
    "print(ar[1, 3])"
   ]
  },
  {
   "cell_type": "markdown",
   "id": "15e86dc2",
   "metadata": {},
   "source": [
    "Exercício 26\n",
    "    Indexação de arrays 3-D\n",
    "Acesse os números 5, 9, 3 e 21 do array abaixo.\n",
    "\n",
    "import numpy as np\n",
    "ar = np.array([\n",
    "    [[1, 1, 5, 1],\n",
    "     [1, 1, 1, 9]],\n",
    "    [[1, 3, 1, 1],\n",
    "     [1, 1, 21, 1]]\n",
    "              ])"
   ]
  },
  {
   "cell_type": "code",
   "execution_count": 26,
   "id": "1853e7bc",
   "metadata": {},
   "outputs": [
    {
     "name": "stdout",
     "output_type": "stream",
     "text": [
      "5\n",
      "9\n",
      "3\n",
      "21\n"
     ]
    }
   ],
   "source": [
    "ar = np.array([\n",
    "    [[1, 1, 5, 1],\n",
    "    [1, 1, 1, 9]],\n",
    "    [[1, 3, 1, 1],\n",
    "    [1, 1, 21, 1]]\n",
    "            ])\n",
    "print(ar[0][0][2])\n",
    "print(ar[0][1][-1])\n",
    "print(ar[1][0][1])\n",
    "print(ar[1][1][2])"
   ]
  },
  {
   "cell_type": "markdown",
   "id": "d2b4bf7a",
   "metadata": {},
   "source": [
    "Exercício 27\n",
    "    Slicing 1-D\n",
    "Com base no array abaixo obtenha o slice do índice 2 até o índice 6.\n",
    "import numpy as np\n",
    "ar = np.array([1, 2, 3, 4, 5, 6, 7, 8, 9, 10])\n",
    "\n",
    "Dica: Em Python, slicing significa que podemos selecionar elementos entre índices especificados. Sintaxe: [start:end:pass].\n",
    "\n",
    "Se não especificarmos o start o valor default será 0. Se não definirmos o step, será considerado o valor 1."
   ]
  },
  {
   "cell_type": "code",
   "execution_count": 27,
   "id": "7ccf8550",
   "metadata": {},
   "outputs": [
    {
     "name": "stdout",
     "output_type": "stream",
     "text": [
      "[3 4 5 6 7]\n"
     ]
    }
   ],
   "source": [
    "ar = np.array([1, 2, 3, 4, 5, 6, 7, 8, 9, 10])\n",
    "print(ar[2:7])"
   ]
  }
 ],
 "metadata": {
  "kernelspec": {
   "display_name": "Python 3 (ipykernel)",
   "language": "python",
   "name": "python3"
  },
  "language_info": {
   "codemirror_mode": {
    "name": "ipython",
    "version": 3
   },
   "file_extension": ".py",
   "mimetype": "text/x-python",
   "name": "python",
   "nbconvert_exporter": "python",
   "pygments_lexer": "ipython3",
   "version": "3.9.7"
  }
 },
 "nbformat": 4,
 "nbformat_minor": 5
}
